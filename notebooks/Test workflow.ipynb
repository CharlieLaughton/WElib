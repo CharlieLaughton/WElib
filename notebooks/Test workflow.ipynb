{
 "cells": [
  {
   "cell_type": "code",
   "execution_count": 1,
   "id": "8f734a44",
   "metadata": {},
   "outputs": [],
   "source": [
    "from WElib import Walker, FunctionProgressCoordinator, FunctionStepper, StaticBinner, Recycler, SplitMerger"
   ]
  },
  {
   "cell_type": "code",
   "execution_count": 2,
   "id": "f7de7427",
   "metadata": {},
   "outputs": [],
   "source": [
    "initial_state = [1.0]\n",
    "\n",
    "def pc_func(state):\n",
    "    return state[0]\n",
    "\n",
    "def stepper_func(state):\n",
    "    return [state[0] + 1.0]"
   ]
  },
  {
   "cell_type": "code",
   "execution_count": 3,
   "id": "7211804b",
   "metadata": {},
   "outputs": [
    {
     "name": "stdout",
     "output_type": "stream",
     "text": [
      "<WElib.Walker weight 0.25, progress coordinate [2.0], bin assignment None>\n",
      "<WElib.Walker weight 0.25, progress coordinate [2.0], bin assignment None>\n",
      "<WElib.Walker weight 0.25, progress coordinate [3.0], bin assignment None>\n",
      "<WElib.Walker weight 0.25, progress coordinate [4.0], bin assignment None>\n",
      "<WElib.Walker weight 0.25, progress coordinate [2.0], bin assignment None>\n",
      "<WElib.Walker weight 0.25, progress coordinate [2.0], bin assignment None>\n",
      "<WElib.Walker weight 0.25, progress coordinate [3.0], bin assignment None>\n",
      "<WElib.Walker weight 0.25, progress coordinate [4.0], bin assignment None>\n",
      "0.5\n",
      "[]\n",
      "<WElib.Walker weight 0.125, progress coordinate [2.0], bin assignment 2>\n",
      "<WElib.Walker weight 0.125, progress coordinate [2.0], bin assignment 2>\n",
      "<WElib.Walker weight 0.125, progress coordinate [2.0], bin assignment 2>\n",
      "<WElib.Walker weight 0.125, progress coordinate [2.0], bin assignment 2>\n",
      "<WElib.Walker weight 0.0625, progress coordinate [3.0], bin assignment 3>\n",
      "<WElib.Walker weight 0.0625, progress coordinate [3.0], bin assignment 3>\n",
      "<WElib.Walker weight 0.0625, progress coordinate [3.0], bin assignment 3>\n",
      "<WElib.Walker weight 0.0625, progress coordinate [3.0], bin assignment 3>\n",
      "<WElib.Walker weight 0.0625, progress coordinate [4.0], bin assignment 4>\n",
      "<WElib.Walker weight 0.0625, progress coordinate [4.0], bin assignment 4>\n",
      "<WElib.Walker weight 0.0625, progress coordinate [4.0], bin assignment 4>\n",
      "<WElib.Walker weight 0.0625, progress coordinate [4.0], bin assignment 4>\n"
     ]
    }
   ],
   "source": [
    "n_walkers = 4\n",
    "initial_states = [[1.0], [1.0], [2.0], [3.0]]\n",
    "weight = 1.0 / n_walkers\n",
    "walkers = [Walker(initial_state, weight) for initial_state in initial_states]\n",
    "stepper = FunctionStepper(stepper_func)\n",
    "walkers = stepper.run(walkers)\n",
    "pc = FunctionProgressCoordinator(pc_func)\n",
    "walkers = pc.run(walkers)\n",
    "for w in walkers:\n",
    "    print(w)\n",
    "recycler = Recycler(2.0)\n",
    "walkers = recycler.run(walkers)\n",
    "for w in walkers:\n",
    "    print(w)\n",
    "print(recycler.flux)\n",
    "print(recycler.recycled_walkers)\n",
    "binner = StaticBinner([1.0, 2.0, 3.0, 4.0])\n",
    "walkers = binner.run(walkers)\n",
    "sm = SplitMerger(n_walkers)\n",
    "walkers = sm.run(walkers)\n",
    "for w in walkers:\n",
    "    print(w)"
   ]
  },
  {
   "cell_type": "code",
   "execution_count": 4,
   "id": "05593734",
   "metadata": {},
   "outputs": [
    {
     "name": "stdout",
     "output_type": "stream",
     "text": [
      "[2.0]\n",
      "[2.0]\n",
      "[2.0]\n",
      "[2.0]\n",
      "[3.0]\n",
      "[3.0]\n",
      "[3.0]\n",
      "[3.0]\n",
      "[4.0]\n",
      "[4.0]\n",
      "[4.0]\n",
      "[4.0]\n"
     ]
    }
   ],
   "source": [
    "for w in walkers:\n",
    "    print(w._initial_pcs)"
   ]
  },
  {
   "cell_type": "code",
   "execution_count": 5,
   "id": "ce9f9503",
   "metadata": {},
   "outputs": [
    {
     "name": "stdout",
     "output_type": "stream",
     "text": [
      "<WElib.Walker weight 0.125, progress coordinate [2.0], bin assignment 2>\n"
     ]
    }
   ],
   "source": [
    "w0 = walkers[0]\n",
    "print(w0)"
   ]
  },
  {
   "cell_type": "code",
   "execution_count": 6,
   "id": "3ba99daa",
   "metadata": {},
   "outputs": [
    {
     "name": "stdout",
     "output_type": "stream",
     "text": [
      "[2.0]\n"
     ]
    }
   ],
   "source": [
    "print(w0._initial_state)"
   ]
  },
  {
   "cell_type": "code",
   "execution_count": 7,
   "id": "6c1a8340",
   "metadata": {},
   "outputs": [
    {
     "name": "stdout",
     "output_type": "stream",
     "text": [
      "[1.0] [1.0]\n",
      "[2.0] [1.0]\n"
     ]
    }
   ],
   "source": [
    "wtest = Walker([1.0], 0.3)\n",
    "print(wtest.state, wtest._initial_state)\n",
    "wtest.update([2.0])\n",
    "print(wtest.state, wtest._initial_state)"
   ]
  },
  {
   "cell_type": "code",
   "execution_count": 8,
   "id": "0baaa3a6",
   "metadata": {},
   "outputs": [],
   "source": [
    "wtest = stepper.run(wtest)[0]"
   ]
  },
  {
   "cell_type": "code",
   "execution_count": 9,
   "id": "f94aeb7c",
   "metadata": {},
   "outputs": [
    {
     "name": "stdout",
     "output_type": "stream",
     "text": [
      "[3.0] [1.0]\n"
     ]
    }
   ],
   "source": [
    "print(wtest.state, wtest._initial_state)"
   ]
  },
  {
   "cell_type": "code",
   "execution_count": null,
   "id": "25bc941b",
   "metadata": {},
   "outputs": [],
   "source": []
  }
 ],
 "metadata": {
  "kernelspec": {
   "display_name": "Python 3 (ipykernel)",
   "language": "python",
   "name": "python3"
  },
  "language_info": {
   "codemirror_mode": {
    "name": "ipython",
    "version": 3
   },
   "file_extension": ".py",
   "mimetype": "text/x-python",
   "name": "python",
   "nbconvert_exporter": "python",
   "pygments_lexer": "ipython3",
   "version": "3.9.10"
  }
 },
 "nbformat": 4,
 "nbformat_minor": 5
}
