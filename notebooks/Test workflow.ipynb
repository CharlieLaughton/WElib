{
 "cells": [
  {
   "cell_type": "markdown",
   "id": "37a42a8b",
   "metadata": {},
   "source": [
    "# WElib basic example\n",
    "\n"
   ]
  },
  {
   "cell_type": "code",
   "execution_count": 1,
   "id": "8f734a44",
   "metadata": {},
   "outputs": [],
   "source": [
    "from WElib import Walker, FunctionProgressCoordinator, FunctionStepper, StaticBinner, Recycler, SplitMerger\n",
    "import numpy as np\n",
    "from matplotlib import pyplot as plt\n",
    "%matplotlib inline"
   ]
  },
  {
   "cell_type": "markdown",
   "id": "061bffec",
   "metadata": {},
   "source": [
    "Walkers do a random walk in 2D. the progress coordinate is distance from the origin. The target value for the pc is 4.0"
   ]
  },
  {
   "cell_type": "code",
   "execution_count": 2,
   "id": "f7de7427",
   "metadata": {},
   "outputs": [],
   "source": [
    "initial_state = np.array([0.0, 0.0])\n",
    "target_pc = 4.0\n",
    "n_walkers = 4\n",
    "\n",
    "def pc_func(state):\n",
    "    '''\n",
    "    Calclate the progress coordinate from the state\n",
    "    \n",
    "    '''\n",
    "    return np.linalg.norm(state)\n",
    "\n",
    "def stepper_func(state):\n",
    "    '''\n",
    "    Take a step, return the new state\n",
    "    \n",
    "    '''\n",
    "    return state + np.random.random(size=2) - 0.5"
   ]
  },
  {
   "cell_type": "markdown",
   "id": "dbbe3649",
   "metadata": {},
   "source": [
    "Create an initial set of walkers"
   ]
  },
  {
   "cell_type": "code",
   "execution_count": 8,
   "id": "9b30b561",
   "metadata": {},
   "outputs": [],
   "source": [
    "weight = 1.0 / n_walkers\n",
    "walkers = [Walker(initial_state, weight) for i in range(n_walkers)]"
   ]
  },
  {
   "cell_type": "markdown",
   "id": "98b4f6fe",
   "metadata": {},
   "source": [
    "Create the workflow components:"
   ]
  },
  {
   "cell_type": "code",
   "execution_count": 13,
   "id": "a689ac02",
   "metadata": {},
   "outputs": [],
   "source": [
    "bin_edges = [0.5, 1.0, 1.5, 2.0, 2.5, 3.0, 3.5, 4.0]\n",
    "stepper = FunctionStepper(stepper_func)\n",
    "pc = FunctionProgressCoordinator(pc_func)\n",
    "recycler = Recycler(target_pc)\n",
    "binner = StaticBinner(bin_edges)\n",
    "sm = SplitMerger(n_walkers)"
   ]
  },
  {
   "cell_type": "markdown",
   "id": "ef6e31ea",
   "metadata": {},
   "source": [
    "Run the WE simulation:"
   ]
  },
  {
   "cell_type": "code",
   "execution_count": 14,
   "id": "7211804b",
   "metadata": {},
   "outputs": [],
   "source": [
    "n_cycles = 10000\n",
    "results = []\n",
    "for i in range(n_cycles):\n",
    "    walkers = stepper.run(walkers)\n",
    "    walkers = pc.run(walkers)\n",
    "    walkers = recycler.run(walkers)\n",
    "    flux = recycler.flux\n",
    "    walkers = binner.run(walkers)\n",
    "    walkers = sm.run(walkers)\n",
    "    result = {\n",
    "        'cycle': i,\n",
    "        'flux' : flux,\n",
    "        'n_walkers': len(walkers)\n",
    "    }\n",
    "    results.append(result)"
   ]
  },
  {
   "cell_type": "markdown",
   "id": "6bfbd49c",
   "metadata": {},
   "source": [
    "Plot the flux:"
   ]
  },
  {
   "cell_type": "code",
   "execution_count": 15,
   "id": "05593734",
   "metadata": {},
   "outputs": [
    {
     "data": {
      "text/plain": [
       "[<matplotlib.lines.Line2D at 0x14e872250>]"
      ]
     },
     "execution_count": 15,
     "metadata": {},
     "output_type": "execute_result"
    },
    {
     "data": {
      "image/png": "[encoded data removed]",
      "text/plain": [
       "<Figure size 432x288 with 1 Axes>"
      ]
     },
     "metadata": {
      "needs_background": "light"
     },
     "output_type": "display_data"
    }
   ],
   "source": [
    "fluxes = [r['flux'] for r in results]\n",
    "plt.plot(fluxes)"
   ]
  },
  {
   "cell_type": "markdown",
   "id": "cc8c15b6",
   "metadata": {},
   "source": [
    "Look at the mean bin weights:"
   ]
  },
  {
   "cell_type": "code",
   "execution_count": 19,
   "id": "ce9f9503",
   "metadata": {},
   "outputs": [
    {
     "data": {
      "text/plain": [
       "<BarContainer object of 8 artists>"
      ]
     },
     "execution_count": 19,
     "metadata": {},
     "output_type": "execute_result"
    },
    {
     "data": {
      "image/png": "[encoded data removed]",
      "text/plain": [
       "<Figure size 432x288 with 1 Axes>"
      ]
     },
     "metadata": {
      "needs_background": "light"
     },
     "output_type": "display_data"
    }
   ],
   "source": [
    "plt.bar(binner.mean_bin_weights.keys(), binner.mean_bin_weights.values())"
   ]
  },
  {
   "cell_type": "code",
   "execution_count": null,
   "id": "edfdfc4c",
   "metadata": {},
   "outputs": [],
   "source": []
  }
 ],
 "metadata": {
  "kernelspec": {
   "display_name": "Python 3 (ipykernel)",
   "language": "python",
   "name": "python3"
  },
  "language_info": {
   "codemirror_mode": {
    "name": "ipython",
    "version": 3
   },
   "file_extension": ".py",
   "mimetype": "text/x-python",
   "name": "python",
   "nbconvert_exporter": "python",
   "pygments_lexer": "ipython3",
   "version": "3.9.10"
  }
 },
 "nbformat": 4,
 "nbformat_minor": 5
}
